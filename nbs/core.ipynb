{
 "cells": [
  {
   "cell_type": "code",
   "execution_count": 1,
   "id": "f676e0b7",
   "metadata": {},
   "outputs": [],
   "source": [
    "#| hide\n",
    "import numpy as np\n",
    "import matplotlib.pyplot as plt\n",
    "import ipywidgets\n",
    "from ipywidgets import interact, widgets\n",
    "%matplotlib inline"
   ]
  },
  {
   "cell_type": "code",
   "execution_count": 2,
   "id": "bfcf6b4a",
   "metadata": {},
   "outputs": [],
   "source": [
    "def gradient_descent(lr):\n",
    "    f = lambda x: x**2\n",
    "    df = lambda x: 2*x\n",
    "    x0 = 4\n",
    "\n",
    "    x_values = [x0]\n",
    "    fx_values = [f(x0)]\n",
    "\n",
    "    max_iter = 100\n",
    "\n",
    "    for i in range(max_iter):\n",
    "        grad = df(x_values[-1])\n",
    "        x = x_values[-1] - lr * grad\n",
    "        x_values.append(x)\n",
    "        fx_values.append(f(x))\n",
    "\n",
    "    x_plot = np.linspace(-5, 5, 100)\n",
    "    fx_plot = f(x_plot)\n",
    "    plt.plot(x_plot, fx_plot)\n",
    "    plt.plot(x_values, fx_values, 'ro-')\n",
    "    plt.xlabel('x')\n",
    "    plt.ylabel('f(x)')\n",
    "    plt.title('Gradient Descent with Learning Rate={}'.format(lr))\n",
    "    plt.show()"
   ]
  },
  {
   "cell_type": "code",
   "execution_count": 3,
   "id": "749c20e1",
   "metadata": {},
   "outputs": [
    {
     "data": {
      "application/vnd.jupyter.widget-view+json": {
       "model_id": "7c6143da7d69476a9ce9b711a6b9f588",
       "version_major": 2,
       "version_minor": 0
      },
      "text/plain": [
       "interactive(children=(FloatSlider(value=0.0, description='lr', max=1.0, step=0.01), Output()), _dom_classes=('…"
      ]
     },
     "metadata": {},
     "output_type": "display_data"
    },
    {
     "data": {
      "text/plain": [
       "<function __main__.gradient_descent(lr)>"
      ]
     },
     "execution_count": 3,
     "metadata": {},
     "output_type": "execute_result"
    }
   ],
   "source": [
    "ipywidgets.interact(gradient_descent, lr=(0,1,0.01))"
   ]
  },
  {
   "cell_type": "code",
   "execution_count": null,
   "id": "9730ada7",
   "metadata": {},
   "outputs": [],
   "source": []
  }
 ],
 "metadata": {
  "kernelspec": {
   "display_name": "Python 3 (ipykernel)",
   "language": "python",
   "name": "python3"
  },
  "language_info": {
   "codemirror_mode": {
    "name": "ipython",
    "version": 3
   },
   "file_extension": ".py",
   "mimetype": "text/x-python",
   "name": "python",
   "nbconvert_exporter": "python",
   "pygments_lexer": "ipython3",
   "version": "3.11.2"
  }
 },
 "nbformat": 4,
 "nbformat_minor": 5
}
