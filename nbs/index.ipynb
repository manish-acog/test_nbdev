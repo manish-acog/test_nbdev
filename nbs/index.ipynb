{
 "cells": [
  {
   "cell_type": "markdown",
   "id": "bc866289",
   "metadata": {},
   "source": [
    "# Book1"
   ]
  },
  {
   "cell_type": "code",
   "execution_count": 5,
   "id": "79003c07",
   "metadata": {},
   "outputs": [],
   "source": [
    "#| export\n",
    "def sum(a,b):\n",
    "    print(a+b)"
   ]
  },
  {
   "cell_type": "code",
   "execution_count": 6,
   "id": "2154dc3c",
   "metadata": {},
   "outputs": [
    {
     "name": "stdout",
     "output_type": "stream",
     "text": [
      "11\n"
     ]
    }
   ],
   "source": [
    "sum(5,6)"
   ]
  },
  {
   "cell_type": "markdown",
   "id": "476d694e",
   "metadata": {},
   "source": [
    "## Chapter 1"
   ]
  },
  {
   "cell_type": "markdown",
   "id": "edc0135e",
   "metadata": {},
   "source": [
    "## Chapter 2"
   ]
  },
  {
   "cell_type": "code",
   "execution_count": null,
   "id": "e3515497",
   "metadata": {},
   "outputs": [],
   "source": []
  }
 ],
 "metadata": {
  "kernelspec": {
   "display_name": "Python 3 (ipykernel)",
   "language": "python",
   "name": "python3"
  },
  "language_info": {
   "codemirror_mode": {
    "name": "ipython",
    "version": 3
   },
   "file_extension": ".py",
   "mimetype": "text/x-python",
   "name": "python",
   "nbconvert_exporter": "python",
   "pygments_lexer": "ipython3",
   "version": "3.11.2"
  }
 },
 "nbformat": 4,
 "nbformat_minor": 5
}
